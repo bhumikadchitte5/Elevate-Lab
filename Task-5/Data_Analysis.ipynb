{
 "cells": [
  {
   "cell_type": "code",
   "execution_count": 1,
   "id": "24388d74-bb1a-420c-b6d9-bdc23f1bd1bc",
   "metadata": {},
   "outputs": [],
   "source": [
    "# Step 1: Import Libraries\n",
    "import pandas as pd\n",
    "import matplotlib.pyplot as plt\n",
    "import seaborn as sns"
   ]
  },
  {
   "cell_type": "code",
   "execution_count": 4,
   "id": "82d1db24-aeb4-4897-a01e-51ed169f7bf5",
   "metadata": {},
   "outputs": [],
   "source": [
    "# Step 2: Load CSV File\n",
    "df = pd.read_csv(\"C:/Users/HP/Downloads/sales.csv\")"
   ]
  },
  {
   "cell_type": "code",
   "execution_count": 13,
   "id": "541637a3-1643-4841-b8df-3dd0ed3320f9",
   "metadata": {},
   "outputs": [
    {
     "name": "stdout",
     "output_type": "stream",
     "text": [
      " First 5 Rows:\n"
     ]
    },
    {
     "data": {
      "text/html": [
       "<div>\n",
       "<style scoped>\n",
       "    .dataframe tbody tr th:only-of-type {\n",
       "        vertical-align: middle;\n",
       "    }\n",
       "\n",
       "    .dataframe tbody tr th {\n",
       "        vertical-align: top;\n",
       "    }\n",
       "\n",
       "    .dataframe thead th {\n",
       "        text-align: right;\n",
       "    }\n",
       "</style>\n",
       "<table border=\"1\" class=\"dataframe\">\n",
       "  <thead>\n",
       "    <tr style=\"text-align: right;\">\n",
       "      <th></th>\n",
       "      <th>Date</th>\n",
       "      <th>Region</th>\n",
       "      <th>Product</th>\n",
       "      <th>Sales</th>\n",
       "      <th>Quantity</th>\n",
       "    </tr>\n",
       "  </thead>\n",
       "  <tbody>\n",
       "    <tr>\n",
       "      <th>0</th>\n",
       "      <td>2025-01-01</td>\n",
       "      <td>South</td>\n",
       "      <td>Tablet</td>\n",
       "      <td>564</td>\n",
       "      <td>4</td>\n",
       "    </tr>\n",
       "    <tr>\n",
       "      <th>1</th>\n",
       "      <td>2025-01-02</td>\n",
       "      <td>East</td>\n",
       "      <td>Headphones</td>\n",
       "      <td>1662</td>\n",
       "      <td>3</td>\n",
       "    </tr>\n",
       "    <tr>\n",
       "      <th>2</th>\n",
       "      <td>2025-01-03</td>\n",
       "      <td>North</td>\n",
       "      <td>Monitor</td>\n",
       "      <td>1092</td>\n",
       "      <td>2</td>\n",
       "    </tr>\n",
       "    <tr>\n",
       "      <th>3</th>\n",
       "      <td>2025-01-04</td>\n",
       "      <td>East</td>\n",
       "      <td>Smartphone</td>\n",
       "      <td>918</td>\n",
       "      <td>1</td>\n",
       "    </tr>\n",
       "    <tr>\n",
       "      <th>4</th>\n",
       "      <td>2025-01-05</td>\n",
       "      <td>East</td>\n",
       "      <td>Laptop</td>\n",
       "      <td>1020</td>\n",
       "      <td>2</td>\n",
       "    </tr>\n",
       "  </tbody>\n",
       "</table>\n",
       "</div>"
      ],
      "text/plain": [
       "         Date Region     Product  Sales  Quantity\n",
       "0  2025-01-01  South      Tablet    564         4\n",
       "1  2025-01-02   East  Headphones   1662         3\n",
       "2  2025-01-03  North     Monitor   1092         2\n",
       "3  2025-01-04   East  Smartphone    918         1\n",
       "4  2025-01-05   East      Laptop   1020         2"
      ]
     },
     "metadata": {},
     "output_type": "display_data"
    }
   ],
   "source": [
    "# Step 3: Display first few rows\n",
    "print(\" First 5 Rows:\")\n",
    "display(df.head())"
   ]
  },
  {
   "cell_type": "code",
   "execution_count": 14,
   "id": "2f6d531e-7377-494d-8218-fabb4ad87752",
   "metadata": {},
   "outputs": [
    {
     "name": "stdout",
     "output_type": "stream",
     "text": [
      " Dataset Info:\n",
      "<class 'pandas.core.frame.DataFrame'>\n",
      "RangeIndex: 30 entries, 0 to 29\n",
      "Data columns (total 5 columns):\n",
      " #   Column    Non-Null Count  Dtype \n",
      "---  ------    --------------  ----- \n",
      " 0   Date      30 non-null     object\n",
      " 1   Region    30 non-null     object\n",
      " 2   Product   30 non-null     object\n",
      " 3   Sales     30 non-null     int64 \n",
      " 4   Quantity  30 non-null     int64 \n",
      "dtypes: int64(2), object(3)\n",
      "memory usage: 1.3+ KB\n"
     ]
    }
   ],
   "source": [
    "# Step 4: Basic Info\n",
    "print(\" Dataset Info:\")\n",
    "df.info()"
   ]
  },
  {
   "cell_type": "code",
   "execution_count": 15,
   "id": "a391ca44-1546-4d64-9b6f-efec4c5217b7",
   "metadata": {},
   "outputs": [
    {
     "name": "stdout",
     "output_type": "stream",
     "text": [
      "\n",
      " Missing Values:\n",
      "Date        0\n",
      "Region      0\n",
      "Product     0\n",
      "Sales       0\n",
      "Quantity    0\n",
      "dtype: int64\n"
     ]
    }
   ],
   "source": [
    "# Step 5: Check for missing values\n",
    "print(\"\\n Missing Values:\")\n",
    "print(df.isnull().sum())\n"
   ]
  },
  {
   "cell_type": "code",
   "execution_count": 16,
   "id": "d63681b1-87ed-44a0-bf13-d78822b6b6f1",
   "metadata": {},
   "outputs": [
    {
     "name": "stdout",
     "output_type": "stream",
     "text": [
      "\n",
      " Total Sales: 34026\n"
     ]
    }
   ],
   "source": [
    "# Step 6: Total Sales\n",
    "total_sales = df[\"Sales\"].sum()\n",
    "print(f\"\\n Total Sales: {total_sales}\")"
   ]
  },
  {
   "cell_type": "code",
   "execution_count": 17,
   "id": "78d90e25-b0e2-48f8-9d6b-2ffe62a37538",
   "metadata": {},
   "outputs": [
    {
     "name": "stdout",
     "output_type": "stream",
     "text": [
      "\n",
      " Sales by Region:\n",
      "Region\n",
      "South    10024\n",
      "West      9728\n",
      "East      8379\n",
      "North     5895\n",
      "Name: Sales, dtype: int64\n"
     ]
    }
   ],
   "source": [
    "# Step 7: Group by Region\n",
    "sales_by_region = df.groupby(\"Region\")[\"Sales\"].sum().sort_values(ascending=False)\n",
    "print(\"\\n Sales by Region:\")\n",
    "print(sales_by_region)\n"
   ]
  },
  {
   "cell_type": "code",
   "execution_count": 18,
   "id": "da1e5f70-42a8-4081-b58b-26490aa3538c",
   "metadata": {},
   "outputs": [
    {
     "name": "stdout",
     "output_type": "stream",
     "text": [
      "\n",
      " Sales by Product:\n",
      "Product\n",
      "Headphones    12636\n",
      "Smartphone    11332\n",
      "Monitor        5632\n",
      "Laptop         3862\n",
      "Tablet          564\n",
      "Name: Sales, dtype: int64\n"
     ]
    }
   ],
   "source": [
    "# Step 8: Group by Product\n",
    "sales_by_product = df.groupby(\"Product\")[\"Sales\"].sum().sort_values(ascending=False)\n",
    "print(\"\\n Sales by Product:\")\n",
    "print(sales_by_product)"
   ]
  },
  {
   "cell_type": "code",
   "execution_count": 11,
   "id": "2dcaa662-dff9-48a5-9218-84d70adfe48e",
   "metadata": {},
   "outputs": [
    {
     "name": "stderr",
     "output_type": "stream",
     "text": [
      "C:\\Users\\HP\\AppData\\Local\\Temp\\ipykernel_10816\\2869557737.py:3: FutureWarning: \n",
      "\n",
      "Passing `palette` without assigning `hue` is deprecated and will be removed in v0.14.0. Assign the `x` variable to `hue` and set `legend=False` for the same effect.\n",
      "\n",
      "  sns.barplot(x=sales_by_region.index, y=sales_by_region.values, palette=\"viridis\")\n"
     ]
    },
    {
     "data": {
      "image/png": "[encoded data removed]",
      "text/plain": [
       "<Figure size 800x500 with 1 Axes>"
      ]
     },
     "metadata": {},
     "output_type": "display_data"
    }
   ],
   "source": [
    "# Step 9: Visualization - Sales by Region\n",
    "plt.figure(figsize=(8,5))\n",
    "sns.barplot(x=sales_by_region.index, y=sales_by_region.values, palette=\"viridis\")\n",
    "plt.title(\"Sales by Region\")\n",
    "plt.ylabel(\"Total Sales\")\n",
    "plt.xlabel(\"Region\")\n",
    "plt.show()"
   ]
  },
  {
   "cell_type": "code",
   "execution_count": 12,
   "id": "9b228522-eb80-4a87-8db4-94ba42361d6a",
   "metadata": {},
   "outputs": [
    {
     "name": "stderr",
     "output_type": "stream",
     "text": [
      "C:\\Users\\HP\\AppData\\Local\\Temp\\ipykernel_10816\\3473601975.py:3: FutureWarning: \n",
      "\n",
      "Passing `palette` without assigning `hue` is deprecated and will be removed in v0.14.0. Assign the `x` variable to `hue` and set `legend=False` for the same effect.\n",
      "\n",
      "  sns.barplot(x=sales_by_product.index, y=sales_by_product.values, palette=\"coolwarm\")\n"
     ]
    },
    {
     "data": {
      "image/png": "[encoded data removed]",
      "text/plain": [
       "<Figure size 800x500 with 1 Axes>"
      ]
     },
     "metadata": {},
     "output_type": "display_data"
    }
   ],
   "source": [
    "# Step 10: Visualization - Sales by Product\n",
    "plt.figure(figsize=(8,5))\n",
    "sns.barplot(x=sales_by_product.index, y=sales_by_product.values, palette=\"coolwarm\")\n",
    "plt.title(\"Sales by Product\")\n",
    "plt.ylabel(\"Total Sales\")\n",
    "plt.xlabel(\"Product\")\n",
    "plt.show()"
   ]
  },
  {
   "cell_type": "code",
   "execution_count": null,
   "id": "41f265bd-5b6d-4511-a7dd-20d271a1c897",
   "metadata": {},
   "outputs": [],
   "source": []
  }
 ],
 "metadata": {
  "kernelspec": {
   "display_name": "Python 3 (ipykernel)",
   "language": "python",
   "name": "python3"
  },
  "language_info": {
   "codemirror_mode": {
    "name": "ipython",
    "version": 3
   },
   "file_extension": ".py",
   "mimetype": "text/x-python",
   "name": "python",
   "nbconvert_exporter": "python",
   "pygments_lexer": "ipython3",
   "version": "3.12.1"
  }
 },
 "nbformat": 4,
 "nbformat_minor": 5
}
